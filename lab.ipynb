{
 "cells": [
  {
   "cell_type": "code",
   "execution_count": 1,
   "metadata": {},
   "outputs": [],
   "source": [
    "import numpy as np"
   ]
  },
  {
   "cell_type": "markdown",
   "metadata": {},
   "source": [
    "# 1st part. NumPy presentation"
   ]
  },
  {
   "cell_type": "code",
   "execution_count": 2,
   "metadata": {},
   "outputs": [
    {
     "data": {
      "text/plain": [
       "array([[ 1.08409828, -0.14360258,  0.18572539, ..., -1.1442376 ,\n",
       "         0.56778961, -0.34335808],\n",
       "       [ 0.44892247,  0.46343179,  1.64279034, ..., -1.7193891 ,\n",
       "         0.38000025,  0.11814666],\n",
       "       [-0.33989911, -0.0644846 ,  1.20423702, ...,  0.8053573 ,\n",
       "        -0.51703304,  0.33236605],\n",
       "       ...,\n",
       "       [-0.28614496, -1.08255929, -1.2460041 , ..., -0.85072973,\n",
       "        -1.23894014, -0.8362098 ],\n",
       "       [-1.27205905,  0.4486536 ,  0.56772633, ...,  0.76837499,\n",
       "        -0.90791639,  1.51612843],\n",
       "       [ 0.27328752,  1.68969037, -1.08501894, ...,  0.16057064,\n",
       "         0.41004502, -0.38664452]])"
      ]
     },
     "execution_count": 2,
     "metadata": {},
     "output_type": "execute_result"
    }
   ],
   "source": [
    "# Generate a matrix with size of 100 x 100 that contains random values with normal distribution with E = 0 and D = 1\n",
    "A_m = np.random.normal(0, 1, (100, 100))\n",
    "A_m"
   ]
  },
  {
   "cell_type": "code",
   "execution_count": 3,
   "metadata": {},
   "outputs": [
    {
     "data": {
      "text/plain": [
       "2.7576776638719642"
      ]
     },
     "execution_count": 3,
     "metadata": {},
     "output_type": "execute_result"
    }
   ],
   "source": [
    "# Max value of 1st row of the matrix\n",
    "np.max(A_m[0, :])"
   ]
  },
  {
   "cell_type": "code",
   "execution_count": 4,
   "metadata": {},
   "outputs": [
    {
     "data": {
      "text/plain": [
       "-0.0031456971123176645"
      ]
     },
     "execution_count": 4,
     "metadata": {},
     "output_type": "execute_result"
    }
   ],
   "source": [
    "# Mean value of the matrix\n",
    "np.mean(A_m)"
   ]
  },
  {
   "cell_type": "code",
   "execution_count": 5,
   "metadata": {},
   "outputs": [
    {
     "data": {
      "text/plain": [
       "1.001756398339481"
      ]
     },
     "execution_count": 5,
     "metadata": {},
     "output_type": "execute_result"
    }
   ],
   "source": [
    "# Standard deviation of the matrix\n",
    "np.std(A_m)"
   ]
  },
  {
   "cell_type": "code",
   "execution_count": 6,
   "metadata": {},
   "outputs": [
    {
     "data": {
      "text/plain": [
       "(array([[-0.1093868 ,  0.00387781, -0.02807635, ...,  0.08857988,\n",
       "          0.06249572,  0.01088639],\n",
       "        [-0.04529681, -0.05475888, -0.16460853, ..., -0.06813447,\n",
       "          0.07492227, -0.06919138],\n",
       "        [ 0.03429622,  0.01058844, -0.11593291, ...,  0.1765797 ,\n",
       "         -0.05195932, -0.02611363],\n",
       "        ...,\n",
       "        [ 0.02887236,  0.11975453,  0.12245755, ..., -0.08023809,\n",
       "          0.01036543, -0.07267582],\n",
       "        [ 0.12835226, -0.0347487 , -0.04376501, ..., -0.02999297,\n",
       "          0.01950145,  0.10753157],\n",
       "        [-0.02757503, -0.18506142,  0.10903073, ...,  0.05229676,\n",
       "         -0.20820455, -0.18176744]]),\n",
       " array([[ -9.91068683,   0.98392148,   0.89715793, ...,   0.58134771,\n",
       "           0.43047539,   1.29330233],\n",
       "        [  0.        ,  -9.27703893,  -0.24742235, ...,   0.65031912,\n",
       "          -1.16264003,   0.30191956],\n",
       "        [  0.        ,   0.        , -10.14455413, ...,   0.66184311,\n",
       "           0.73674687,  -1.72175743],\n",
       "        ...,\n",
       "        [  0.        ,   0.        ,   0.        , ...,   2.30378866,\n",
       "           0.41137434,  -0.62573942],\n",
       "        [  0.        ,   0.        ,   0.        , ...,   0.        ,\n",
       "          -1.07052   ,  -1.22752002],\n",
       "        [  0.        ,   0.        ,   0.        , ...,   0.        ,\n",
       "           0.        ,  -0.97384927]]))"
      ]
     },
     "execution_count": 6,
     "metadata": {},
     "output_type": "execute_result"
    }
   ],
   "source": [
    "# QR decomposition\n",
    "np.linalg.qr(A_m)"
   ]
  },
  {
   "cell_type": "code",
   "execution_count": 7,
   "metadata": {},
   "outputs": [
    {
     "data": {
      "text/plain": [
       "139.99219328089887"
      ]
     },
     "execution_count": 7,
     "metadata": {},
     "output_type": "execute_result"
    }
   ],
   "source": [
    "# Max value of scalar multiplication among all rows\n",
    "np.max([np.dot(A_m[i, :], A_m[i, :]) for i in range(A_m.shape[0])])"
   ]
  },
  {
   "cell_type": "code",
   "execution_count": 8,
   "metadata": {},
   "outputs": [
    {
     "data": {
      "text/plain": [
       "0.6583536228328911"
      ]
     },
     "execution_count": 8,
     "metadata": {},
     "output_type": "execute_result"
    }
   ],
   "source": [
    "# Standard deviation of sin(A_m)\n",
    "np.std(np.sin(A_m))"
   ]
  },
  {
   "cell_type": "code",
   "execution_count": 9,
   "metadata": {},
   "outputs": [
    {
     "data": {
      "text/plain": [
       "array([[ -6.004289  , -20.45358336,  18.44752154, ...,  -6.89585604,\n",
       "        -11.85122302,   3.23083832],\n",
       "       [ -4.35835401,   2.80694923,  13.82400007, ..., -19.95163046,\n",
       "        -12.08388123,   6.22906666],\n",
       "       [  8.59270247, -22.09326552, -27.25984088, ...,  15.20540356,\n",
       "          7.91888875,  22.44939827],\n",
       "       ...,\n",
       "       [ 13.29723336,  -7.87735696,  -1.78920205, ..., -10.64227961,\n",
       "        -15.64144097,   0.94668637],\n",
       "       [  7.02260919, -16.24074142,   4.83142599, ...,  20.92500883,\n",
       "         -5.96398963,  -6.07121415],\n",
       "       [  4.46778856, -16.13258194,  -5.12260016, ...,  -6.77896744,\n",
       "         14.07007903,  -9.40858492]])"
      ]
     },
     "execution_count": 9,
     "metadata": {},
     "output_type": "execute_result"
    }
   ],
   "source": [
    "# Matrix multiplication\n",
    "np.dot(A_m, A_m)"
   ]
  },
  {
   "cell_type": "code",
   "execution_count": 10,
   "metadata": {},
   "outputs": [
    {
     "data": {
      "text/plain": [
       "array([[-1.22770086,  0.32932797, -0.41911177, ..., -1.39969345,\n",
       "         1.71202722, -0.91114769],\n",
       "       [ 0.01450931,  1.17935855, -2.00926373, ...,  0.18225119,\n",
       "         2.09938935, -0.26185359],\n",
       "       [ 0.27541451,  1.26872162, -2.5174842 , ...,  1.01439198,\n",
       "        -1.32239034,  0.84939908],\n",
       "       ...,\n",
       "       [-0.79641434, -0.16344481,  2.79049077, ..., -0.69648218,\n",
       "        -0.38821041,  0.40273034],\n",
       "       [ 1.72071265,  0.11907273,  1.09249409, ...,  0.10630898,\n",
       "        -1.67629138,  2.42404482],\n",
       "       [ 1.41640285, -2.77470931,  1.71605655, ...,  0.7630115 ,\n",
       "         0.24947438, -0.79668954]])"
      ]
     },
     "execution_count": 10,
     "metadata": {},
     "output_type": "execute_result"
    }
   ],
   "source": [
    "# Difference of the matrix o[i] = A_m[i + 1] - A_m[i]\n",
    "np.diff(A_m)"
   ]
  },
  {
   "cell_type": "code",
   "execution_count": 11,
   "metadata": {},
   "outputs": [
    {
     "data": {
      "text/plain": [
       "array([[ 3.26657252e+00+0.00000000e+00j, -5.49041824e-01-1.39672388e+01j,\n",
       "        -7.18006866e+00+1.62876978e+01j, ...,\n",
       "        -6.47851037e+00-4.96992691e-01j, -7.18006866e+00-1.62876978e+01j,\n",
       "        -5.49041824e-01+1.39672388e+01j],\n",
       "       [ 8.01400746e+00+0.00000000e+00j, -4.71271292e+00+1.54498648e+00j,\n",
       "        -1.80760349e+00-2.10219361e+00j, ...,\n",
       "        -5.11489431e+00+1.52203084e+00j, -1.80760349e+00+2.10219361e+00j,\n",
       "        -4.71271292e+00-1.54498648e+00j],\n",
       "       [ 1.20453575e+01+0.00000000e+00j, -1.26464029e+01-1.16114076e+01j,\n",
       "         1.22460606e+01-1.82954287e+00j, ...,\n",
       "        -5.04253541e+00-3.33199525e+00j,  1.22460606e+01+1.82954287e+00j,\n",
       "        -1.26464029e+01+1.16114076e+01j],\n",
       "       ...,\n",
       "       [-1.14307170e+00+0.00000000e+00j, -2.30745144e+01+1.99142585e+00j,\n",
       "         9.74089219e-01-7.41483651e-01j, ...,\n",
       "        -6.37250818e+00+1.60913896e+00j,  9.74089219e-01+7.41483651e-01j,\n",
       "        -2.30745144e+01-1.99142585e+00j],\n",
       "       [-2.24081079e+01+0.00000000e+00j, -3.59739116e+00+3.91789598e-01j,\n",
       "         1.11180492e+00-1.00525704e-02j, ...,\n",
       "         1.77465880e-02+9.17447074e+00j,  1.11180492e+00+1.00525704e-02j,\n",
       "        -3.59739116e+00-3.91789598e-01j],\n",
       "       [ 6.42376059e+00+0.00000000e+00j,  7.34844336e+00+1.38553426e+01j,\n",
       "         6.53231357e+00-7.16766385e+00j, ...,\n",
       "        -2.67737515e+00+3.47834433e+00j,  6.53231357e+00+7.16766385e+00j,\n",
       "         7.34844336e+00-1.38553426e+01j]])"
      ]
     },
     "execution_count": 11,
     "metadata": {},
     "output_type": "execute_result"
    }
   ],
   "source": [
    "# Fourier transformation of the matrix\n",
    "np.fft.fft(A_m)"
   ]
  },
  {
   "cell_type": "code",
   "execution_count": 12,
   "metadata": {},
   "outputs": [
    {
     "data": {
      "text/plain": [
       "array([ 0.        ,  1.11111111,  2.22222222,  3.33333333,  4.44444444,\n",
       "        5.55555556,  6.66666667,  7.77777778,  8.88888889, 10.        ])"
      ]
     },
     "execution_count": 12,
     "metadata": {},
     "output_type": "execute_result"
    }
   ],
   "source": [
    "# A vector from 0 to 10 that contains 10 elements\n",
    "np.linspace(0, 10, 10)"
   ]
  },
  {
   "cell_type": "code",
   "execution_count": 13,
   "metadata": {},
   "outputs": [
    {
     "data": {
      "text/plain": [
       "array([[0., 0., 0., 0., 0., 0., 0., 0., 0., 0.],\n",
       "       [0., 0., 0., 0., 0., 0., 0., 0., 0., 0.],\n",
       "       [0., 0., 0., 0., 0., 0., 0., 0., 0., 0.],\n",
       "       [0., 0., 0., 0., 0., 0., 0., 0., 0., 0.],\n",
       "       [0., 0., 0., 0., 0., 0., 0., 0., 0., 0.],\n",
       "       [0., 0., 0., 0., 0., 0., 0., 0., 0., 0.],\n",
       "       [0., 0., 0., 0., 0., 0., 0., 0., 0., 0.],\n",
       "       [0., 0., 0., 0., 0., 0., 0., 0., 0., 0.],\n",
       "       [0., 0., 0., 0., 0., 0., 0., 0., 0., 0.],\n",
       "       [0., 0., 0., 0., 0., 0., 0., 0., 0., 0.]])"
      ]
     },
     "execution_count": 13,
     "metadata": {},
     "output_type": "execute_result"
    }
   ],
   "source": [
    "# A matrix with size of 10 x 10 that contains 0s\n",
    "np.zeros((10, 10))"
   ]
  },
  {
   "cell_type": "markdown",
   "metadata": {},
   "source": [
    "# 2nd part. Olap cube"
   ]
  },
  {
   "cell_type": "code",
   "execution_count": 18,
   "metadata": {},
   "outputs": [],
   "source": [
    "shops = 100\n",
    "goods = 20\n",
    "days = 30"
   ]
  },
  {
   "cell_type": "code",
   "execution_count": 19,
   "metadata": {},
   "outputs": [],
   "source": [
    "def fill_cube(E_s, D_s, shops, goods, days):\n",
    "    assert len(E_s) == goods\n",
    "    assert len(D_s) == goods\n",
    "    cube = np.zeros((shops, goods, days))\n",
    "    for good in range(goods):\n",
    "        cube[:, good, :] = np.random.normal(E_s[good], D_s[good], (shops, days))\n",
    "    return cube"
   ]
  },
  {
   "cell_type": "code",
   "execution_count": 21,
   "metadata": {},
   "outputs": [],
   "source": [
    "E_s = np.random.randint(2, 10000, goods)\n",
    "D_s = [np.random.randint(1, E_s[i] / 100) for i in range(goods)]"
   ]
  },
  {
   "cell_type": "code",
   "execution_count": 22,
   "metadata": {},
   "outputs": [],
   "source": [
    "cube = fill_cube(E_s, D_s, shops, goods, days)"
   ]
  },
  {
   "cell_type": "markdown",
   "metadata": {},
   "source": [
    "## Looking for a day which max amount of good 1 was sold on"
   ]
  },
  {
   "cell_type": "code",
   "execution_count": 23,
   "metadata": {},
   "outputs": [
    {
     "name": "stdout",
     "output_type": "stream",
     "text": [
      "The day for good 1 is 10. Amount is 8938.318718029706\n"
     ]
    }
   ],
   "source": [
    "amount = 0\n",
    "maxDay = 0\n",
    "for i in range(cube.shape[2]):\n",
    "    if amount < np.max(cube[:, 1, i]):\n",
    "        amount = np.max(cube[:, 1, i])\n",
    "        maxDay = i\n",
    "print('The day for good 1 is {}. Amount is {}'.format(maxDay, amount))"
   ]
  },
  {
   "cell_type": "markdown",
   "metadata": {},
   "source": [
    "## Looking for max amount of money"
   ]
  },
  {
   "cell_type": "code",
   "execution_count": 25,
   "metadata": {},
   "outputs": [
    {
     "name": "stdout",
     "output_type": "stream",
     "text": [
      "Money amount = 9695.38389910845\n"
     ]
    }
   ],
   "source": [
    "print(\"Money amount = {}\".format(np.max(cube)))"
   ]
  },
  {
   "cell_type": "markdown",
   "metadata": {},
   "source": [
    "## Looking for correlation between stores 1, 2 for good 1"
   ]
  },
  {
   "cell_type": "code",
   "execution_count": 40,
   "metadata": {},
   "outputs": [
    {
     "name": "stdout",
     "output_type": "stream",
     "text": [
      "Correlation is 0.0775313280797058\n"
     ]
    }
   ],
   "source": [
    "R = np.mean((cube[1, 1, :] - np.mean(cube[1, 1, :])) * (cube[2, 1, :] - np.mean(cube[2, 1, :]))) / np.std(cube[1, 1, :]) / np.std(cube[2, 1, :])\n",
    "print('Correlation is {}' .format(R))"
   ]
  },
  {
   "cell_type": "markdown",
   "metadata": {},
   "source": [
    "## Looking for amount of money from 1 day to 10 for 1 shop for 1 - 5 goods"
   ]
  },
  {
   "cell_type": "code",
   "execution_count": 86,
   "metadata": {},
   "outputs": [
    {
     "name": "stdout",
     "output_type": "stream",
     "text": [
      "Amount of money = 232444.71042117276\n"
     ]
    }
   ],
   "source": [
    "print('Amount of money = {}'.format(np.sum(cube[1, 1:6, 1:11])))"
   ]
  },
  {
   "cell_type": "code",
   "execution_count": null,
   "metadata": {},
   "outputs": [],
   "source": []
  }
 ],
 "metadata": {
  "kernelspec": {
   "display_name": "Python 3",
   "language": "python",
   "name": "python3"
  },
  "language_info": {
   "codemirror_mode": {
    "name": "ipython",
    "version": 3
   },
   "file_extension": ".py",
   "mimetype": "text/x-python",
   "name": "python",
   "nbconvert_exporter": "python",
   "pygments_lexer": "ipython3",
   "version": "3.6.7"
  }
 },
 "nbformat": 4,
 "nbformat_minor": 2
}
