{
 "cells": [
  {
   "cell_type": "code",
   "execution_count": 1,
   "metadata": {},
   "outputs": [],
   "source": [
    "import numpy as np"
   ]
  },
  {
   "cell_type": "markdown",
   "metadata": {},
   "source": [
    "# 1st part. NumPy presentation"
   ]
  },
  {
   "cell_type": "code",
   "execution_count": 2,
   "metadata": {},
   "outputs": [
    {
     "data": {
      "text/plain": [
       "array([[ 0.5950902 ,  0.18355068, -0.39678919, ..., -0.23987784,\n",
       "        -0.6274694 ,  0.44367194],\n",
       "       [-0.70417572,  0.56355224,  1.84967355, ...,  1.57286058,\n",
       "        -0.54695936, -0.68672675],\n",
       "       [ 0.28228686,  1.35629418, -0.83089523, ...,  0.8662543 ,\n",
       "         0.07521813,  1.04049543],\n",
       "       ...,\n",
       "       [ 0.08913017, -0.50818168, -1.31995869, ..., -1.02955248,\n",
       "         2.12404845,  0.35018385],\n",
       "       [ 0.00486937,  0.67880932,  0.79445995, ...,  1.68696934,\n",
       "         1.42269372,  2.50965916],\n",
       "       [ 0.44773045, -1.32727279,  1.61977179, ..., -1.03992405,\n",
       "         0.17367625,  0.37197134]])"
      ]
     },
     "execution_count": 2,
     "metadata": {},
     "output_type": "execute_result"
    }
   ],
   "source": [
    "# Generate a matrix with size of 100 x 100 that contains random values with normal distribution with E = 0 and D = 1\n",
    "A_m = np.random.normal(0, 1, (100, 100))\n",
    "A_m"
   ]
  },
  {
   "cell_type": "code",
   "execution_count": 3,
   "metadata": {},
   "outputs": [
    {
     "data": {
      "text/plain": [
       "2.232986353800622"
      ]
     },
     "execution_count": 3,
     "metadata": {},
     "output_type": "execute_result"
    }
   ],
   "source": [
    "# Max value of 1st row of the matrix\n",
    "np.max(A_m[0, :])"
   ]
  },
  {
   "cell_type": "code",
   "execution_count": 4,
   "metadata": {},
   "outputs": [
    {
     "data": {
      "text/plain": [
       "-0.0006723063702698073"
      ]
     },
     "execution_count": 4,
     "metadata": {},
     "output_type": "execute_result"
    }
   ],
   "source": [
    "# Mean value of the matrix\n",
    "np.mean(A_m)"
   ]
  },
  {
   "cell_type": "code",
   "execution_count": 5,
   "metadata": {},
   "outputs": [
    {
     "data": {
      "text/plain": [
       "1.0136826153549672"
      ]
     },
     "execution_count": 5,
     "metadata": {},
     "output_type": "execute_result"
    }
   ],
   "source": [
    "# Standard deviation of the matrix\n",
    "np.std(A_m)"
   ]
  },
  {
   "cell_type": "code",
   "execution_count": 6,
   "metadata": {},
   "outputs": [
    {
     "data": {
      "text/plain": [
       "(array([[-0.06074381, -0.01492528, -0.04448067, ..., -0.21209716,\n",
       "         -0.09218642, -0.09942246],\n",
       "        [ 0.07187871, -0.06162538,  0.17945658, ...,  0.13222739,\n",
       "          0.01284543,  0.09776538],\n",
       "        [-0.02881442, -0.1359722 , -0.10320938, ..., -0.05766195,\n",
       "          0.06746789, -0.07191818],\n",
       "        ...,\n",
       "        [-0.00909796,  0.05216319, -0.12499732, ..., -0.0957122 ,\n",
       "         -0.04550715, -0.01934762],\n",
       "        [-0.00049704, -0.06890399,  0.06974583, ...,  0.05870634,\n",
       "          0.02305431, -0.08003518],\n",
       "        [-0.04570207,  0.1375819 ,  0.17881988, ..., -0.05985102,\n",
       "         -0.17363517, -0.06303195]]),\n",
       " array([[-9.79672228, -0.60218097, -0.4574241 , ..., -0.37569033,\n",
       "         -0.93381139, -0.13103815],\n",
       "        [ 0.        , -9.84717993, -1.39207348, ..., -2.00341152,\n",
       "          0.44280401,  0.2862209 ],\n",
       "        [ 0.        ,  0.        , 10.01225759, ..., -0.42759107,\n",
       "          0.31454154,  0.64540441],\n",
       "        ...,\n",
       "        [ 0.        ,  0.        ,  0.        , ...,  1.86796517,\n",
       "         -0.96510242,  0.66642142],\n",
       "        [ 0.        ,  0.        ,  0.        , ...,  0.        ,\n",
       "          1.60073774, -0.8973507 ],\n",
       "        [ 0.        ,  0.        ,  0.        , ...,  0.        ,\n",
       "          0.        ,  1.27811036]]))"
      ]
     },
     "execution_count": 6,
     "metadata": {},
     "output_type": "execute_result"
    }
   ],
   "source": [
    "# QR decomposition\n",
    "np.linalg.qr(A_m)"
   ]
  },
  {
   "cell_type": "code",
   "execution_count": 7,
   "metadata": {},
   "outputs": [
    {
     "data": {
      "text/plain": [
       "145.14833150504796"
      ]
     },
     "execution_count": 7,
     "metadata": {},
     "output_type": "execute_result"
    }
   ],
   "source": [
    "# Max value of scalar multiplication among all rows\n",
    "np.max([np.dot(A_m[i, :], A_m[i, :]) for i in range(A_m.shape[0])])"
   ]
  },
  {
   "cell_type": "code",
   "execution_count": 8,
   "metadata": {},
   "outputs": [
    {
     "data": {
      "text/plain": [
       "0.6589449039322197"
      ]
     },
     "execution_count": 8,
     "metadata": {},
     "output_type": "execute_result"
    }
   ],
   "source": [
    "# Standard deviation of sin(A_m)\n",
    "np.std(np.sin(A_m))"
   ]
  },
  {
   "cell_type": "code",
   "execution_count": 9,
   "metadata": {},
   "outputs": [
    {
     "data": {
      "text/plain": [
       "array([[  6.48096114,   4.22687362,   1.12598669, ..., -10.04535601,\n",
       "         -2.2825191 ,   2.69786555],\n",
       "       [-10.36625829, -12.39953262, -15.84618171, ..., -10.73898182,\n",
       "          8.713156  ,   0.81852112],\n",
       "       [ 12.02676036, -15.59248703,   1.6466629 , ...,   2.6555135 ,\n",
       "         -8.55618587,   9.98927295],\n",
       "       ...,\n",
       "       [ 11.35203872, -18.76325939,   5.03652858, ...,  13.57592739,\n",
       "          7.39394941,  -7.75113813],\n",
       "       [ -0.07649022,   3.85124842,  23.5529734 , ...,  12.61516014,\n",
       "         -6.9219257 ,  23.22787481],\n",
       "       [  4.10790626,  -6.96706866,  -3.67160828, ...,  17.18141509,\n",
       "        -10.24571976,  -0.72226221]])"
      ]
     },
     "execution_count": 9,
     "metadata": {},
     "output_type": "execute_result"
    }
   ],
   "source": [
    "# Matrix multiplication\n",
    "np.dot(A_m, A_m)"
   ]
  },
  {
   "cell_type": "code",
   "execution_count": 10,
   "metadata": {},
   "outputs": [
    {
     "data": {
      "text/plain": [
       "array([[-0.41153952, -0.58033987,  0.85639404, ..., -1.85508927,\n",
       "        -0.38759156,  1.07114134],\n",
       "       [ 1.26772796,  1.28612131, -1.23483883, ...,  1.35390531,\n",
       "        -2.11981995, -0.13976739],\n",
       "       [ 1.07400731, -2.18718941, -1.12189983, ...,  3.39984995,\n",
       "        -0.79103617,  0.9652773 ],\n",
       "       ...,\n",
       "       [-0.59731185, -0.811777  ,  2.0482502 , ...,  0.2474436 ,\n",
       "         3.15360092, -1.7738646 ],\n",
       "       [ 0.67393995,  0.11565063, -0.30400301, ...,  0.68031248,\n",
       "        -0.26427562,  1.08696544],\n",
       "       [-1.77500324,  2.94704458, -2.54221901, ..., -2.18897946,\n",
       "         1.2136003 ,  0.19829509]])"
      ]
     },
     "execution_count": 10,
     "metadata": {},
     "output_type": "execute_result"
    }
   ],
   "source": [
    "# Difference of the matrix o[i] = A_m[i + 1] - A_m[i]\n",
    "np.diff(A_m)"
   ]
  },
  {
   "cell_type": "code",
   "execution_count": 11,
   "metadata": {},
   "outputs": [
    {
     "data": {
      "text/plain": [
       "array([[ 1.64567727 +0.j        ,  9.32873081+14.01983844j,\n",
       "        -6.00174263 -0.69320772j, ..., -0.99746568 +4.87114731j,\n",
       "        -6.00174263 +0.69320772j,  9.32873081-14.01983844j],\n",
       "       [-3.49388876 +0.j        , 11.15790679 +1.57660316j,\n",
       "        -0.07418769 -2.37372474j, ...,  4.18276215 -2.47748723j,\n",
       "        -0.07418769 +2.37372474j, 11.15790679 -1.57660316j],\n",
       "       [ 3.76231078 +0.j        , -0.10221154 +8.79794199j,\n",
       "        -4.20088685-13.89462014j, ..., -5.36378227-10.56035917j,\n",
       "        -4.20088685+13.89462014j, -0.10221154 -8.79794199j],\n",
       "       ...,\n",
       "       [ 6.40543039 +0.j        ,  1.18541709 +0.18070095j,\n",
       "        11.89864855 -2.1384233j , ..., -9.56685056 +1.77639104j,\n",
       "        11.89864855 +2.1384233j ,  1.18541709 -0.18070095j],\n",
       "       [15.99473895 +0.j        , 21.741305   +2.07776964j,\n",
       "         6.59390791+11.58988058j, ..., -4.73155079 +7.01061801j,\n",
       "         6.59390791-11.58988058j, 21.741305   -2.07776964j],\n",
       "       [-8.87021817 +0.j        , -0.75944571+10.84692123j,\n",
       "         2.57094886 +0.64364232j, ..., 10.42731409 -6.69241992j,\n",
       "         2.57094886 -0.64364232j, -0.75944571-10.84692123j]])"
      ]
     },
     "execution_count": 11,
     "metadata": {},
     "output_type": "execute_result"
    }
   ],
   "source": [
    "# Fourier transformation of the matrix\n",
    "np.fft.fft(A_m)"
   ]
  },
  {
   "cell_type": "code",
   "execution_count": 12,
   "metadata": {},
   "outputs": [
    {
     "data": {
      "text/plain": [
       "array([ 0.        ,  1.11111111,  2.22222222,  3.33333333,  4.44444444,\n",
       "        5.55555556,  6.66666667,  7.77777778,  8.88888889, 10.        ])"
      ]
     },
     "execution_count": 12,
     "metadata": {},
     "output_type": "execute_result"
    }
   ],
   "source": [
    "# A vector from 0 to 10 that contains 10 elements\n",
    "np.linspace(0, 10, 10)"
   ]
  },
  {
   "cell_type": "code",
   "execution_count": 13,
   "metadata": {},
   "outputs": [
    {
     "data": {
      "text/plain": [
       "array([[0., 0., 0., 0., 0., 0., 0., 0., 0., 0.],\n",
       "       [0., 0., 0., 0., 0., 0., 0., 0., 0., 0.],\n",
       "       [0., 0., 0., 0., 0., 0., 0., 0., 0., 0.],\n",
       "       [0., 0., 0., 0., 0., 0., 0., 0., 0., 0.],\n",
       "       [0., 0., 0., 0., 0., 0., 0., 0., 0., 0.],\n",
       "       [0., 0., 0., 0., 0., 0., 0., 0., 0., 0.],\n",
       "       [0., 0., 0., 0., 0., 0., 0., 0., 0., 0.],\n",
       "       [0., 0., 0., 0., 0., 0., 0., 0., 0., 0.],\n",
       "       [0., 0., 0., 0., 0., 0., 0., 0., 0., 0.],\n",
       "       [0., 0., 0., 0., 0., 0., 0., 0., 0., 0.]])"
      ]
     },
     "execution_count": 13,
     "metadata": {},
     "output_type": "execute_result"
    }
   ],
   "source": [
    "# A matrix with size of 10 x 10 that contains 0s\n",
    "np.zeros((10, 10))"
   ]
  },
  {
   "cell_type": "markdown",
   "metadata": {},
   "source": [
    "# 2nd part. Olap cube"
   ]
  },
  {
   "cell_type": "code",
   "execution_count": 14,
   "metadata": {},
   "outputs": [],
   "source": [
    "shops = 100\n",
    "goods = 20\n",
    "days = 30"
   ]
  },
  {
   "cell_type": "code",
   "execution_count": 15,
   "metadata": {},
   "outputs": [],
   "source": [
    "def fill_cube(E_s, D_s, shops, goods, days):\n",
    "    assert len(E_s) == goods\n",
    "    assert len(D_s) == goods\n",
    "    cube = np.zeros((shops, goods, days))\n",
    "    for good in range(goods):\n",
    "        cube[:, good, :] = np.random.normal(E_s[good], D_s[good], (shops, days))\n",
    "    return cube"
   ]
  },
  {
   "cell_type": "code",
   "execution_count": 16,
   "metadata": {},
   "outputs": [],
   "source": [
    "E_s = np.random.randint(2, 10000, goods)\n",
    "D_s = [np.random.randint(1, E_s[i] / 100) for i in range(goods)]"
   ]
  },
  {
   "cell_type": "code",
   "execution_count": 17,
   "metadata": {},
   "outputs": [],
   "source": [
    "cube = fill_cube(E_s, D_s, shops, goods, days)"
   ]
  },
  {
   "cell_type": "markdown",
   "metadata": {},
   "source": [
    "## Looking for a day on which max count of product 1 was sold"
   ]
  },
  {
   "cell_type": "code",
   "execution_count": 18,
   "metadata": {},
   "outputs": [
    {
     "name": "stdout",
     "output_type": "stream",
     "text": [
      "The day for good 1 is 28. Amount is 4492.049819557065\n"
     ]
    }
   ],
   "source": [
    "amount = 0\n",
    "maxDay = 0\n",
    "for i in range(cube.shape[2]):\n",
    "    if amount < np.max(cube[:, 1, i]):\n",
    "        amount = np.max(cube[:, 1, i])\n",
    "        maxDay = i\n",
    "print('The day for good 1 is {}. Amount is {}'.format(maxDay, amount))"
   ]
  },
  {
   "cell_type": "markdown",
   "metadata": {},
   "source": [
    "## Looking for max amount of money"
   ]
  },
  {
   "cell_type": "code",
   "execution_count": 19,
   "metadata": {},
   "outputs": [
    {
     "name": "stdout",
     "output_type": "stream",
     "text": [
      "Money amount = 9745.36505819607\n"
     ]
    }
   ],
   "source": [
    "print(\"Money amount = {}\".format(np.max(cube)))"
   ]
  },
  {
   "cell_type": "markdown",
   "metadata": {},
   "source": [
    "## Looking for correlation between stores 1, 2 for product 1"
   ]
  },
  {
   "cell_type": "code",
   "execution_count": 20,
   "metadata": {},
   "outputs": [
    {
     "name": "stdout",
     "output_type": "stream",
     "text": [
      "Correlation is -0.36903561265194285\n"
     ]
    }
   ],
   "source": [
    "R = np.mean((cube[1, 1, :] - np.mean(cube[1, 1, :])) * (cube[2, 1, :] - np.mean(cube[2, 1, :]))) / np.std(cube[1, 1, :]) / np.std(cube[2, 1, :])\n",
    "print('Correlation is {}' .format(R))"
   ]
  },
  {
   "cell_type": "markdown",
   "metadata": {},
   "source": [
    "## Looking for amount of money from 1 day to 10 for 1 shop for 1 - 5 products"
   ]
  },
  {
   "cell_type": "code",
   "execution_count": 21,
   "metadata": {},
   "outputs": [
    {
     "name": "stdout",
     "output_type": "stream",
     "text": [
      "Amount of money = 178819.1607046988\n"
     ]
    }
   ],
   "source": [
    "print('Amount of money = {}'.format(np.sum(cube[1, 1:6, 1:11])))"
   ]
  },
  {
   "cell_type": "code",
   "execution_count": null,
   "metadata": {},
   "outputs": [],
   "source": []
  }
 ],
 "metadata": {
  "kernelspec": {
   "display_name": "Python 3",
   "language": "python",
   "name": "python3"
  },
  "language_info": {
   "codemirror_mode": {
    "name": "ipython",
    "version": 3
   },
   "file_extension": ".py",
   "mimetype": "text/x-python",
   "name": "python",
   "nbconvert_exporter": "python",
   "pygments_lexer": "ipython3",
   "version": "3.6.7"
  }
 },
 "nbformat": 4,
 "nbformat_minor": 2
}
